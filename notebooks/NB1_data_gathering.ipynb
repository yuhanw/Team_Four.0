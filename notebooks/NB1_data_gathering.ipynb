{
 "metadata": {
  "name": ""
 },
 "nbformat": 3,
 "nbformat_minor": 0,
 "worksheets": [
  {
   "cells": [
    {
     "cell_type": "heading",
     "level": 1,
     "metadata": {},
     "source": [
      "Team Four.0 Final Project"
     ]
    },
    {
     "cell_type": "heading",
     "level": 2,
     "metadata": {},
     "source": [
      "Part 1 Data Gathering"
     ]
    },
    {
     "cell_type": "markdown",
     "metadata": {},
     "source": [
      "##Team members responsible for this notebook:\n",
      "\n",
      "**Minghong Zheng**: collect raw data from website, write functions and scripts to transform raw data into data frames, write explanations.\n",
      "\n",
      "**Yuhan Wang**, **Yijia Mao**, **Yiwen Wei** : proofread codes.\n",
      "\n"
     ]
    },
    {
     "cell_type": "heading",
     "level": 3,
     "metadata": {},
     "source": [
      "Data Resources:"
     ]
    },
    {
     "cell_type": "markdown",
     "metadata": {},
     "source": [
      "First, the data of State Employment and Unemployment statistics from 2004 to 2013 is downloaded from the Bureau of Labor Statistics website. Their file formats are xls.\n",
      "\n",
      "Here are the URLs of the data sources:   \n",
      "http://www.bls.gov/lau/table14full04.xlsx    \n",
      "http://www.bls.gov/lau/table14full05.xlsx       \n",
      "http://www.bls.gov/lau/table14full06.xlsx       \n",
      "http://www.bls.gov/lau/table14full07.xlsx       \n",
      "http://www.bls.gov/lau/table14full08.xlsx    \n",
      "http://www.bls.gov/lau/table14full09.xlsx     \n",
      "http://www.bls.gov/lau/table14full10.xlsx     \n",
      "http://www.bls.gov/lau/table14full11.xlsx    \n",
      "http://www.bls.gov/lau/table14full12.xlsx    \n",
      "http://www.bls.gov/lau/ptable14full2013.xlsx   "
     ]
    },
    {
     "cell_type": "code",
     "collapsed": false,
     "input": [
      "%load_ext rmagic"
     ],
     "language": "python",
     "metadata": {},
     "outputs": [
      {
       "output_type": "stream",
       "stream": "stdout",
       "text": [
        "The rmagic extension is already loaded. To reload it, use:\n",
        "  %reload_ext rmagic\n"
       ]
      }
     ],
     "prompt_number": 3
    },
    {
     "cell_type": "markdown",
     "metadata": {},
     "source": [
      "Directories that we need to create:\n",
      "\n",
      "* a directory <code>'script'</code> to run the process of data gathering\n",
      "* a directory <code>'data1'</code> to save our **data**  \n",
      " * a subdirectory <code>'raw'</code> to store our **raw data** collected from the web \n",
      " * a subdirectory <code>'cleaned'</code> to store our **cleaned data** \n",
      " * a subdirectory <code>'simulated'</code> to store **simulated data**\n",
      "* a directory <code>'visulazations'</code> to store our **plots** "
     ]
    },
    {
     "cell_type": "code",
     "collapsed": false,
     "input": [
      "%%bash\n",
      "\n",
      "mkdir ../script ../data1 ../data1/raw ../data1/cleaned ../data1/simulated ../visualizations\n"
     ],
     "language": "python",
     "metadata": {},
     "outputs": [],
     "prompt_number": 4
    },
    {
     "cell_type": "markdown",
     "metadata": {},
     "source": [
      "Check whether these directories are created."
     ]
    },
    {
     "cell_type": "code",
     "collapsed": false,
     "input": [
      "%%bash\n",
      "cd ..\n",
      "ls -r"
     ],
     "language": "python",
     "metadata": {},
     "outputs": [
      {
       "output_type": "stream",
       "stream": "stdout",
       "text": [
        "website\n",
        "visualizations\n",
        "script\n",
        "README.md\n",
        "notebooks\n",
        "LICENSE\n",
        "data1\n"
       ]
      }
     ],
     "prompt_number": 5
    },
    {
     "cell_type": "code",
     "collapsed": false,
     "input": [
      "%%bash\n",
      "cd ../data1\n",
      "ls -r"
     ],
     "language": "python",
     "metadata": {},
     "outputs": [
      {
       "output_type": "stream",
       "stream": "stdout",
       "text": [
        "simulated\n",
        "raw\n",
        "cleaned\n"
       ]
      }
     ],
     "prompt_number": 6
    },
    {
     "cell_type": "heading",
     "level": 3,
     "metadata": {},
     "source": [
      "Example: "
     ]
    },
    {
     "cell_type": "heading",
     "level": 4,
     "metadata": {},
     "source": [
      "Here's how we download the data in 2004 from the website; save them in subdirectory \"raw\"; load data in 2004.xls file into a data frame"
     ]
    },
    {
     "cell_type": "markdown",
     "metadata": {},
     "source": [
      "* Download the data from the website"
     ]
    },
    {
     "cell_type": "code",
     "collapsed": false,
     "input": [
      "%%R\n",
      "\n",
      "url=\"http://www.bls.gov/lau/table14full04.xlsx\"\n",
      "file='../data1/raw/2004.xlsx'\n",
      "download.file(url,destfile=file,method='curl')\n",
      "  "
     ],
     "language": "python",
     "metadata": {},
     "outputs": [],
     "prompt_number": 7
    },
    {
     "cell_type": "markdown",
     "metadata": {},
     "source": [
      "* Check whether the file is successfully downolad to our raw directory"
     ]
    },
    {
     "cell_type": "code",
     "collapsed": false,
     "input": [
      "%%bash\n",
      "ls ../data1/raw\n",
      "\n"
     ],
     "language": "python",
     "metadata": {},
     "outputs": [
      {
       "output_type": "stream",
       "stream": "stdout",
       "text": [
        "2004.xlsx\n"
       ]
      }
     ],
     "prompt_number": 8
    },
    {
     "cell_type": "heading",
     "level": 4,
     "metadata": {},
     "source": [
      "Load raw data into data Fram"
     ]
    },
    {
     "cell_type": "markdown",
     "metadata": {},
     "source": [
      "* Download the pacakage \"gdata\" to read our excel files"
     ]
    },
    {
     "cell_type": "code",
     "collapsed": false,
     "input": [
      "%%bash\n",
      "sudo apt-get install r-cran-gplots -y"
     ],
     "language": "python",
     "metadata": {},
     "outputs": [
      {
       "output_type": "stream",
       "stream": "stdout",
       "text": [
        "Reading package lists...\n",
        "Building dependency tree...\n",
        "Reading state information...\n",
        "r-cran-gplots is already the newest version.\n",
        "0 upgraded, 0 newly installed, 0 to remove and 0 not upgraded.\n"
       ]
      }
     ],
     "prompt_number": 9
    },
    {
     "cell_type": "code",
     "collapsed": false,
     "input": [
      "ls -l ../data1/raw"
     ],
     "language": "python",
     "metadata": {},
     "outputs": [
      {
       "output_type": "stream",
       "stream": "stdout",
       "text": [
        "total 224\r\n",
        "-rw-rw-r-- 1 oski oski 228193 May  4 17:16 2004.xlsx\r\n"
       ]
      }
     ],
     "prompt_number": 10
    },
    {
     "cell_type": "code",
     "collapsed": false,
     "input": [
      "%%R\n",
      "\n",
      "library(gdata)\n",
      "location=\"../data1/raw/2004.xlsx\"\n",
      "A=read.xls(location)# translate these data into dataFrame and save it in the variable A\n"
     ],
     "language": "python",
     "metadata": {},
     "outputs": [
      {
       "metadata": {},
       "output_type": "display_data",
       "text": [
        "gdata: read.xls support for 'XLS' (Excel 97-2004) files ENABLED.\n",
        "\n",
        "gdata: read.xls support for 'XLSX' (Excel 2007+) files ENABLED.\n",
        "\n",
        "Attaching package: \u2018gdata\u2019\n",
        "\n",
        "The following object is masked from \u2018package:stats\u2019:\n",
        "\n",
        "    nobs\n",
        "\n",
        "The following object is masked from \u2018package:utils\u2019:\n",
        "\n",
        "    object.size\n",
        "\n"
       ]
      }
     ],
     "prompt_number": 11
    },
    {
     "cell_type": "markdown",
     "metadata": {},
     "source": [
      "* Number of **rows**, number of **columns**, **variable names** in the data frame"
     ]
    },
    {
     "cell_type": "code",
     "collapsed": false,
     "input": [
      "%%R\n",
      "print(nrow(A))\n",
      "print(ncol(A))\n"
     ],
     "language": "python",
     "metadata": {},
     "outputs": [
      {
       "metadata": {},
       "output_type": "display_data",
       "text": [
        "[1] 2430\n",
        "[1] 14\n"
       ]
      }
     ],
     "prompt_number": 12
    },
    {
     "cell_type": "markdown",
     "metadata": {},
     "source": [
      "* Drop the unnecessary columns"
     ]
    },
    {
     "cell_type": "code",
     "collapsed": false,
     "input": [
      "%%R\n",
      "A=A[ ,c(-1,-12:-14)]\n",
      "print(names(A))"
     ],
     "language": "python",
     "metadata": {},
     "outputs": [
      {
       "metadata": {},
       "output_type": "display_data",
       "text": [
        " [1] \"X\"   \"X.1\" \"X.2\" \"X.3\" \"X.4\" \"X.5\" \"X.6\" \"X.7\" \"X.8\" \"X.9\"\n"
       ]
      }
     ],
     "prompt_number": 13
    },
    {
     "cell_type": "markdown",
     "metadata": {},
     "source": [
      "* Rename every variable: **Group Code**,**State**,**Group**,**Population**,**Total number of labor**,**Percentage of labor**, **Totoal number of employment**,**Employment rate**,**Total number of unemloyment**,**Unemployment rate**"
     ]
    },
    {
     "cell_type": "code",
     "collapsed": false,
     "input": [
      "%%R\n",
      "names(A)=c(\"grp_code\",\"state\",\"group\",\"pop\",\"ttl_labor\",\"per_labor\",\"ttl_emp\",\"emp_rate\",\"ttl_unemp\",\"unemp_rate\")\n",
      "print(names(A))"
     ],
     "language": "python",
     "metadata": {},
     "outputs": [
      {
       "metadata": {},
       "output_type": "display_data",
       "text": [
        " [1] \"grp_code\"   \"state\"      \"group\"      \"pop\"        \"ttl_labor\" \n",
        " [6] \"per_labor\"  \"ttl_emp\"    \"emp_rate\"   \"ttl_unemp\"  \"unemp_rate\"\n"
       ]
      }
     ],
     "prompt_number": 12
    },
    {
     "cell_type": "markdown",
     "metadata": {},
     "source": [
      "* Drop the unnecessary rows"
     ]
    },
    {
     "cell_type": "code",
     "collapsed": false,
     "input": [
      "%%R\n",
      "A=A[-1:-5, ]\n",
      "row.names(A)=1:nrow(A) #number each row\n",
      "\n"
     ],
     "language": "python",
     "metadata": {},
     "outputs": [],
     "prompt_number": 14
    },
    {
     "cell_type": "markdown",
     "metadata": {},
     "source": [
      "* Use the data frame we just created, we save the A data into a csv file into the raw data directory:"
     ]
    },
    {
     "cell_type": "code",
     "collapsed": false,
     "input": [
      "%%R\n",
      "write.csv(A, '../data1/raw/2004_to_be_cleaned.csv')"
     ],
     "language": "python",
     "metadata": {},
     "outputs": [],
     "prompt_number": 15
    },
    {
     "cell_type": "markdown",
     "metadata": {},
     "source": [
      "* Check whether this file is successfully created"
     ]
    },
    {
     "cell_type": "code",
     "collapsed": false,
     "input": [
      "%%bash\n",
      "cd ../data1/raw\n",
      "ls"
     ],
     "language": "python",
     "metadata": {},
     "outputs": [
      {
       "output_type": "stream",
       "stream": "stdout",
       "text": [
        "2004_to_be_cleaned.csv\n",
        "2004.xlsx\n"
       ]
      }
     ],
     "prompt_number": 16
    },
    {
     "cell_type": "heading",
     "level": 4,
     "metadata": {},
     "source": [
      "Package the gathering code into reusable functions"
     ]
    },
    {
     "cell_type": "code",
     "collapsed": false,
     "input": [
      "%%file ../script/dataframe-R\n",
      "creat_dataframe=function(year){library(gdata)\n",
      "a=year\n",
      "if((year-2000)<13){\n",
      "year=substr(as.character(year),3,4)\n",
      "url=paste('http://www.bls.gov/lau/table14full',year,'.xlsx',sep='')\n",
      "}\n",
      "else{url=\"http://www.bls.gov/lau/ptable14full2013.xlsx\"}\n",
      "\n",
      "file=paste('../data1/raw/',a,'.xlsx',sep='')\n",
      "download.file(url,destfile=file,method='curl')\n",
      "filename=paste(a,'.xlsx',sep='')\n",
      "A=read.xls(paste(\"../data1/raw/\",filename,sep=''))\n",
      "A=A[ ,c(-1,-12:-14)]\n",
      "names(A)=c(\"grp_code\",\"state\",\"group\",\"pop\",\"ttl_labor\",\"per_labor\",\"ttl_emp\",\"emp_rate\",\"ttl_unemp\",\"unemp_rate\")\n",
      "A=A[-1:-5, ] \n",
      "row.names(A)=1:nrow(A)\n",
      "return(A)}"
     ],
     "language": "python",
     "metadata": {},
     "outputs": [
      {
       "output_type": "stream",
       "stream": "stdout",
       "text": [
        "Writing ../script/dataframe-R\n"
       ]
      }
     ],
     "prompt_number": 17
    },
    {
     "cell_type": "markdown",
     "metadata": {},
     "source": [
      "* Now, our function dowloading and converting a raw plant XLS file into a R data frame can be used in other notebooks, using the source command:"
     ]
    },
    {
     "cell_type": "code",
     "collapsed": false,
     "input": [
      "%%R\n",
      "source('../script/dataframe-R')# open the function script\n",
      "A=creat_dataframe(2005)#create a dataframe for year 2005\n",
      "print(head(A))\n",
      "write.csv(A, '../data1/raw/2005_to_be_cleaned.csv')"
     ],
     "language": "python",
     "metadata": {},
     "outputs": [
      {
       "metadata": {},
       "output_type": "display_data",
       "text": [
        "  grp_code   state        group  pop ttl_labor          per_labor ttl_emp\n",
        "1       01 Alabama        Total 3521      2179 61.899999999999999    2086\n",
        "2       02 Alabama          Men 1672      1172 70.099999999999994    1127\n",
        "3       03 Alabama        Women 1850      1007 54.500000000000000     960\n",
        "4       04 Alabama        White 2554      1612 63.100000000000001    1563\n",
        "5       05 Alabama   White, men 1243       902 72.599999999999994     878\n",
        "6       06 Alabama White, women 1311       710 54.200000000000003     684\n",
        "            emp_rate ttl_unemp        unemp_rate\n",
        "1 59.200000000000003        92 4.200000000000000\n",
        "2 67.400000000000006        45 3.800000000000000\n",
        "3 51.899999999999999        48 4.700000000000000\n",
        "4 61.200000000000003        50 3.100000000000000\n",
        "5 70.700000000000003        24 2.600000000000000\n",
        "6 52.200000000000003        26 3.700000000000000\n"
       ]
      }
     ],
     "prompt_number": 18
    },
    {
     "cell_type": "heading",
     "level": 4,
     "metadata": {},
     "source": [
      "Use the script file to load other xls files into dataframe and save them as csv files"
     ]
    },
    {
     "cell_type": "code",
     "collapsed": false,
     "input": [
      "%%R\n",
      "source('../script/dataframe-R')\n",
      "for(i in 2006:2013){\n",
      "A=creat_dataframe(i)\n",
      "write.csv(A, paste('../data1/raw/',i,'_to_be_cleaned.csv',sep=\"\"))}\n",
      "    "
     ],
     "language": "python",
     "metadata": {},
     "outputs": [],
     "prompt_number": 19
    },
    {
     "cell_type": "markdown",
     "metadata": {},
     "source": [
      "Check whether there cvs files are successfully created"
     ]
    },
    {
     "cell_type": "code",
     "collapsed": false,
     "input": [
      "%%bash\n",
      "cd ../data1/raw\n",
      "ls"
     ],
     "language": "python",
     "metadata": {},
     "outputs": [
      {
       "output_type": "stream",
       "stream": "stdout",
       "text": [
        "2004_to_be_cleaned.csv\n",
        "2004.xlsx\n",
        "2005_to_be_cleaned.csv\n",
        "2005.xlsx\n",
        "2006_to_be_cleaned.csv\n",
        "2006.xlsx\n",
        "2007_to_be_cleaned.csv\n",
        "2007.xlsx\n",
        "2008_to_be_cleaned.csv\n",
        "2008.xlsx\n",
        "2009_to_be_cleaned.csv\n",
        "2009.xlsx\n",
        "2010_to_be_cleaned.csv\n",
        "2010.xlsx\n",
        "2011_to_be_cleaned.csv\n",
        "2011.xlsx\n",
        "2012_to_be_cleaned.csv\n",
        "2012.xlsx\n",
        "2013_to_be_cleaned.csv\n",
        "2013.xlsx\n"
       ]
      }
     ],
     "prompt_number": 20
    },
    {
     "cell_type": "code",
     "collapsed": false,
     "input": [],
     "language": "python",
     "metadata": {},
     "outputs": []
    }
   ],
   "metadata": {}
  }
 ]
}