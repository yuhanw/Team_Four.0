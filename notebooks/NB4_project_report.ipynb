{
 "metadata": {
  "name": ""
 },
 "nbformat": 3,
 "nbformat_minor": 0,
 "worksheets": [
  {
   "cells": [
    {
     "cell_type": "markdown",
     "metadata": {},
     "source": [
      "In this notebook, you'll sumarize your finding for the class presentation. \n",
      "\n",
      "\n",
      "The class presentation will use this notebook in slide mode, as I do during lecture time.\n",
      "\n",
      "You'll need to download the following [zip file](https://github.com/fperez/nb-slideshow-template/archive/master.zip), unzip it, and run the following notebook <code>install-support.ipynb</code> to install the slide capabilities.\n",
      "\n",
      "The notebook <code>notebook-slideshow-example.ipynb</code> will give you examples on how to use slides within the iPython notebook.  \n",
      "\n",
      "You should also write this notebook so that you can convert it nicely into a pdf document using the commands\n",
      "\n",
      "    ipython nbconvert NB4_report.pynb --to latex\n",
      "    pdflatex NB4_report.tex\n",
      "    \n",
      "See [here](http://ipython.org/ipython-doc/rel-1.0.0/interactive/nbconvert.html) for further references on how to do that. \n",
      "\n",
      "In this notebook, you'll\n",
      "\n",
      "* describe your problem as stated in the propectus \n",
      " \n",
      " \n",
      "* comment on your data sources, on their format, on the difficulties to get them\n",
      "\n",
      "\n",
      "* present the main challenge you encountered\n",
      "\n",
      "\n",
      "* present your finding in the form of expresive graphics\n",
      "\n",
      "Be sure to include an introduction section motivating your visualizations, with a description of the substantive context and why it is interesting.\n",
      "\n",
      "\n",
      "Cite the source of the data and any other references that you used in carrying out your project.\n"
     ]
    },
    {
     "cell_type": "markdown",
     "metadata": {},
     "source": [
      "##Team members responsible for this notebook:\n",
      "\n",
      "List the team members contributing to this notebook, along with their responsabilities:\n",
      "\n",
      "* team member 1 **name**: team member 1 **responsabilities**\n",
      "* team member 2 **name**: team member 2 **responsabilities**\n",
      "* etc.\n",
      "\n",
      "I advise you to work at least in pairs for each project notebook, as you did for the homework assignments. Of course, all team members may participate to each notebook. "
     ]
    },
    {
     "cell_type": "heading",
     "level": 1,
     "metadata": {},
     "source": [
      "Project Objective"
     ]
    },
    {
     "cell_type": "markdown",
     "metadata": {},
     "source": [
      "**Our topic for the final project is to explore whether gender affects the employment rate and the unemployment rate in different states during the recent 10 years, and see whether there exists gener discrimination in the job market.**\n",
      "\n",
      "1. Whether there is gender discrimination in job markets. Do employers favor male over female?\n",
      "2. Which states have the most severe discrimination and which states have the least discrimination?\n",
      "3. Whether other factors, such as age and race affect the discrimination situation?\n",
      "4. Focusing on California, how is it compared with the average?\n",
      "5. Focusing on California, what is the trend of change in the past 10 years?"
     ]
    },
    {
     "cell_type": "code",
     "collapsed": false,
     "input": [
      "%load_ext rmagic"
     ],
     "language": "python",
     "metadata": {},
     "outputs": [
      {
       "output_type": "stream",
       "stream": "stdout",
       "text": [
        "The rmagic extension is already loaded. To reload it, use:\n",
        "  %reload_ext rmagic\n"
       ]
      }
     ],
     "prompt_number": 25
    },
    {
     "cell_type": "code",
     "collapsed": false,
     "input": [
      "from IPython.core.display import Image"
     ],
     "language": "python",
     "metadata": {},
     "outputs": [],
     "prompt_number": 26
    },
    {
     "cell_type": "heading",
     "level": 1,
     "metadata": {},
     "source": [
      "Data Gathering"
     ]
    },
    {
     "cell_type": "markdown",
     "metadata": {},
     "source": [
      "The data of State Employment and Unemployment statistics from 2004 to 2013 is downloaded from the Bureau of Labor Statistics website. Their file formats are xls and then we save them in subdirectory \"raw\" load data into dataFrame. Then we rename every variable: **Group Code**,**State**,**Group**,**Population**,**Total number of labor**,**Percentage of labor**, **Totoal number of employment**,**Employment rate**,**Total number of unemloyment**,**Unemployment rate** and drop the unnecessary rows. Finally, we use the script file to load other xls files into dataframe and save them as csv files. "
     ]
    },
    {
     "cell_type": "heading",
     "level": 1,
     "metadata": {},
     "source": [
      "Data Cleaning"
     ]
    },
    {
     "cell_type": "heading",
     "level": 2,
     "metadata": {},
     "source": [
      "Part A Focusing on the data of 2013 for all states"
     ]
    },
    {
     "cell_type": "markdown",
     "metadata": {},
     "source": [
      "Since we have 3 different questions to answer: general gender discrimination, gender discrimination in different age groups, gender discrimination in different races, 3 dataframe will be created, one for each question."
     ]
    },
    {
     "cell_type": "heading",
     "level": 3,
     "metadata": {},
     "source": [
      "Race Group: (We use boxplot to visualize)"
     ]
    },
    {
     "cell_type": "code",
     "collapsed": false,
     "input": [
      "Image('summary general.jpeg')"
     ],
     "language": "python",
     "metadata": {},
     "outputs": [
      {
       "metadata": {},
       "output_type": "pyout",
       "png": "[encoded data removed]",
       "prompt_number": 27,
       "text": [
        "<IPython.core.display.Image at 0xb08a85ec>"
       ]
      }
     ],
     "prompt_number": 27
    },
    {
     "cell_type": "markdown",
     "metadata": {},
     "source": [
      "As we can see from the boxplot,there is a big difference between the employment rate of men and women. The employment rates of Men is in generally about 13% higher than the employment rates of Women. But the unemployment rate does not make that much difference, about only 2 percent."
     ]
    },
    {
     "cell_type": "heading",
     "level": 3,
     "metadata": {},
     "source": [
      "Age Group:"
     ]
    },
    {
     "cell_type": "code",
     "collapsed": false,
     "input": [
      "Image('summary by age.jpeg')"
     ],
     "language": "python",
     "metadata": {},
     "outputs": [
      {
       "metadata": {},
       "output_type": "pyout",
       "png": "[encoded data removed]",
       "prompt_number": 14,
       "text": [
        "<IPython.core.display.Image at 0xb4c3660c>"
       ]
      }
     ],
     "prompt_number": 14
    },
    {
     "cell_type": "markdown",
     "metadata": {},
     "source": [
      "As shown in the boxplot above, for both men and women, the employment rate increases as age increases until the 35 to 44 years age group where it reachs the highest value, and then it decreases as age gets larger. The unemployment is greatest in the under 19 years age group and the distribution is disperse, which is fairly reasonable. And then it decreases all the time but the rate of decreasing is getting smaller and smaller."
     ]
    },
    {
     "cell_type": "heading",
     "level": 3,
     "metadata": {},
     "source": [
      "Race Group:\n"
     ]
    },
    {
     "cell_type": "code",
     "collapsed": false,
     "input": [
      "Image('summary by race.jpeg')"
     ],
     "language": "python",
     "metadata": {},
     "outputs": [
      {
       "metadata": {},
       "output_type": "pyout",
       "png": "[encoded data removed]",
       "prompt_number": 17,
       "text": [
        "<IPython.core.display.Image at 0xb089fd8c>"
       ]
      }
     ],
     "prompt_number": 17
    },
    {
     "cell_type": "markdown",
     "metadata": {},
     "source": [
      "Hispanic or Latino ethnicity men has the greatest employment rate and the second greatest group is White men, while Black or African American, women has the lowest employment rate. And about the unemployment rate, Black or African American women and men groups have the greatest unemployment rate while White women and men have the lowest unemployment. "
     ]
    },
    {
     "cell_type": "heading",
     "level": 2,
     "metadata": {},
     "source": [
      "Part B using data in 2004-2013, focusing on California to see the trend"
     ]
    },
    {
     "cell_type": "code",
     "collapsed": false,
     "input": [
      "Image('summary CA general.jpeg')"
     ],
     "language": "python",
     "metadata": {},
     "outputs": [
      {
       "metadata": {},
       "output_type": "pyout",
       "png": "[encoded data removed]",
       "prompt_number": 18,
       "text": [
        "<IPython.core.display.Image at 0xb089fb4c>"
       ]
      }
     ],
     "prompt_number": 18
    },
    {
     "cell_type": "markdown",
     "metadata": {},
     "source": [
      "The avergae employment rate of California men is 65%  and that of California women is 52%, however, the distribution of California men is more disperse. Although there is a still big difference, it's almost the same as the difference in gernal. So the discrimination situation deos not get worse. On the other hand,the distribution of the unemployment rate does not make much difference."
     ]
    },
    {
     "cell_type": "code",
     "collapsed": false,
     "input": [
      "Image('summary CA age.jpeg')"
     ],
     "language": "python",
     "metadata": {},
     "outputs": [
      {
       "metadata": {},
       "output_type": "pyout",
       "png": "[encoded data removed]",
       "prompt_number": 20,
       "text": [
        "<IPython.core.display.Image at 0xb089fd4c>"
       ]
      }
     ],
     "prompt_number": 20
    },
    {
     "cell_type": "markdown",
     "metadata": {},
     "source": [
      "The age group situation of Califonia is basicall the same as that of the year 2013. For both men and women, the employment rate increases as age increases until the 35 to 44 years age group where it reachs the highest value, and then it decreases as age gets larger. The unemployment is greatest in the under 19 years age group and then it decreases all the time except for that the distribution of the under 19 years age gourp."
     ]
    },
    {
     "cell_type": "code",
     "collapsed": false,
     "input": [
      "Image('summary CA by race.jpeg')"
     ],
     "language": "python",
     "metadata": {},
     "outputs": []
    },
    {
     "cell_type": "markdown",
     "metadata": {},
     "source": [
      "The race group situation of Califonia is also basicall the same as that of the year 2013."
     ]
    },
    {
     "cell_type": "heading",
     "level": 2,
     "metadata": {},
     "source": [
      "Part C: Employment rate change trend in the past 10 years in California\n"
     ]
    },
    {
     "cell_type": "code",
     "collapsed": false,
     "input": [
      "Image('general trend.jpeg')"
     ],
     "language": "python",
     "metadata": {},
     "outputs": [
      {
       "metadata": {},
       "output_type": "pyout",
       "png": "[encoded data removed]",
       "prompt_number": 23,
       "text": [
        "<IPython.core.display.Image at 0xb08a408c>"
       ]
      }
     ],
     "prompt_number": 23
    },
    {
     "cell_type": "markdown",
     "metadata": {},
     "source": [
      "The graph above was made to show the employment rate changes from 2004 to 2013 in California. The black line is for Men, while the red line is for Women.\n",
      "The general patterns of the employment rate of both men and women are basically the same. The employment rate changes relatively stable from year 2004 to 2008. Then it starts to decrease rapidly until year 2010, which is probably because of the financial crisis staring from 2008. And the employment finally starts to increase slowly since 2010. However, the employment of men is always about 15% higher than that of women."
     ]
    },
    {
     "cell_type": "code",
     "collapsed": false,
     "input": [
      "Image('trend by age group.jpeg')"
     ],
     "language": "python",
     "metadata": {},
     "outputs": []
    },
    {
     "cell_type": "markdown",
     "metadata": {},
     "source": [
      "\n",
      "In age group \"16-19 years\", women has higher employment rate than men. This is the only age group that women get employed more. This is possibly because more guys than girls are going to high schools or colleges at that age instead of working.\n",
      "\n",
      "Also, in 2008, most of the groups' employment rates are decreasing due to the financial crisis. However, the age group of \"65 years old and above\" had an increasing trend."
     ]
    },
    {
     "cell_type": "code",
     "collapsed": false,
     "input": [
      "Image('trend by age group.jpeg')"
     ],
     "language": "python",
     "metadata": {},
     "outputs": [
      {
       "metadata": {},
       "output_type": "pyout",
       "png": "[encoded data removed]",
       "prompt_number": 24,
       "text": [
        "<IPython.core.display.Image at 0xb089fc2c>"
       ]
      }
     ],
     "prompt_number": 24
    },
    {
     "cell_type": "markdown",
     "metadata": {},
     "source": [
      "\n",
      "In all four race groups, men have higher employment rate than women in the same race group.\n",
      "\n",
      "The employment rate difference is largest in Latinos, possible due to the fact that many Latino women are busy raising their children. The second largest difference is found in Whites, while the employment rate difference in Black people is the smallest"
     ]
    },
    {
     "cell_type": "code",
     "collapsed": false,
     "input": [],
     "language": "python",
     "metadata": {},
     "outputs": []
    }
   ],
   "metadata": {}
  }
 ]
}