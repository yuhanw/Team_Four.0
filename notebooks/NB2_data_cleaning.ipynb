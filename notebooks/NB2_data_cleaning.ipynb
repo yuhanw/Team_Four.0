{
 "metadata": {
  "name": ""
 },
 "nbformat": 3,
 "nbformat_minor": 0,
 "worksheets": [
  {
   "cells": [
    {
     "cell_type": "markdown",
     "metadata": {},
     "source": [
      "In this notebook, you'll\n",
      "\n",
      "* **load the raw data into R or Pandas dataframe** from the <code>./data/raw</code> directory using the functions and classes (written during the data gathering phase) in the <code>./script</code> directory\n",
      "\n",
      "\n",
      "* **perform visual exploration** on your data variables to detect anomalies, errors, outliers, interesting features etc.\n",
      "\n",
      "\n",
      "\n",
      "* **clean categorical and quantitative variables** (by removing observations and variables with too many missing values, by consolidating categorical variables, by selecting an appropriate subset of variables and observations for later analysis, etc.)\n",
      "\n",
      "\n",
      "* **save the cleaned data** into csv files in the <code>./data/cleaned</code> directory\n",
      "\n",
      "\n",
      "* **save interesting graphics** you obtained during visual exploration into the <code>./visualiation</code> directory"
     ]
    },
    {
     "cell_type": "markdown",
     "metadata": {},
     "source": [
      "##Team members responsible for this notebook:\n",
      "\n",
      "List the team members contributing to this notebook, along with their responsabilities:\n",
      "\n",
      "* team member 1 **name**: team member 1 **responsabilities**\n",
      "* team member 2 **name**: team member 2 **responsabilities**\n",
      "* etc.\n",
      "\n",
      "I advise you to work at least in pairs for each project notebook, as you did for the homework assignments. Of course, all team members may participate to each notebook. "
     ]
    },
    {
     "cell_type": "code",
     "collapsed": false,
     "input": [
      "%load_ext rmagic"
     ],
     "language": "python",
     "metadata": {},
     "outputs": [],
     "prompt_number": 1
    },
    {
     "cell_type": "markdown",
     "metadata": {},
     "source": [
      "See where our data files are."
     ]
    },
    {
     "cell_type": "code",
     "collapsed": false,
     "input": [
      "%%bash\n",
      "cd ../data1/raw\n",
      "ls"
     ],
     "language": "python",
     "metadata": {},
     "outputs": [
      {
       "output_type": "stream",
       "stream": "stdout",
       "text": [
        "2004_to_be_cleaned.csv\n",
        "2004.xls\n",
        "2005_to_be_cleaned.csv\n",
        "2005.xls\n",
        "2006_to_be_cleaned.csv\n",
        "2006.xls\n",
        "2007_to_be_cleaned.csv\n",
        "2007.xls\n",
        "2008_to_be_cleaned.csv\n",
        "2008.xls\n",
        "2009_to_be_cleaned.csv\n",
        "2009.xls\n",
        "2010_to_be_cleaned.csv\n",
        "2010.xls\n",
        "2011_to_be_cleaned.csv\n",
        "2011.xls\n",
        "2012_to_be_cleaned.csv\n",
        "2012.xls\n",
        "2013_to_be_cleaned.csv\n",
        "2013.xls\n"
       ]
      }
     ],
     "prompt_number": 2
    },
    {
     "cell_type": "markdown",
     "metadata": {},
     "source": [
      "Part A, using data in 2013 only, for all states.\n",
      "\n",
      "read csv file, and delete unnecessary variables, observations with NA values."
     ]
    },
    {
     "cell_type": "code",
     "collapsed": false,
     "input": [
      "%%R\n",
      "A13=read.csv('../data1/raw/2013_to_be_cleaned.csv',header=T)\n",
      "A13=subset(A13, select=c(grp_code, state, group, emp_rate, unemp_rate))\n",
      "A13=A13[complete.cases(A13),]\n",
      "print(head(A13))"
     ],
     "language": "python",
     "metadata": {},
     "outputs": [
      {
       "metadata": {},
       "output_type": "display_data",
       "text": [
        "  grp_code   state        group emp_rate unemp_rate\n",
        "1        1 Alabama        Total     54.0        6.9\n",
        "2        2 Alabama          Men     59.2        7.0\n",
        "3        3 Alabama        Women     49.3        6.8\n",
        "4        4 Alabama        White     56.8        5.3\n",
        "5        5 Alabama   White, men     63.9        5.4\n",
        "6        6 Alabama White, women     50.1        5.1\n"
       ]
      }
     ],
     "prompt_number": 9
    },
    {
     "cell_type": "markdown",
     "metadata": {},
     "source": [
      "Since we have 3 different questions to answer: general gender discrimination, gender discrimination in different age groups, gender discrimination in different races, 3 dataframe will be created, one for each question."
     ]
    },
    {
     "cell_type": "code",
     "collapsed": false,
     "input": [
      "%%R\n",
      "A13gen=subset(A13, grp_code==2 | grp_code==3) #general\n",
      "A13age=subset(A13, grp_code>=25 & grp_code<=39) #age\n",
      "A13race=subset(A13,grp_code==5|grp_code==6|grp_code==8|grp_code==9|grp_code==11|grp_code==12|grp_code==14|grp_code==15) #race\n",
      "print(head(A13race))\n",
      "print(class(A13age))"
     ],
     "language": "python",
     "metadata": {},
     "outputs": [
      {
       "metadata": {},
       "output_type": "display_data",
       "text": [
        "   grp_code   state                             group emp_rate unemp_rate\n",
        "5         5 Alabama                        White, men     63.9        5.4\n",
        "6         6 Alabama                      White, women     50.1        5.1\n",
        "8         8 Alabama    Black or African American, men     43.5       14.0\n",
        "9         9 Alabama  Black or African American, women     47.4       10.7\n",
        "11       14 Alabama Hispanic or Latino ethnicity, men     79.3        2.3\n",
        "37        5  Alaska                        White, men     67.9        6.5\n",
        "[1] \"data.frame\"\n"
       ]
      }
     ],
     "prompt_number": 10
    },
    {
     "cell_type": "markdown",
     "metadata": {},
     "source": [
      "Part B, using data in 2004-2013, focusing on California to see the trend.\n",
      "\n",
      "read csv file into R, and combine them together.\n",
      "Add a new variable \"year\" to distinguish data for each year."
     ]
    },
    {
     "cell_type": "code",
     "collapsed": false,
     "input": [
      "%%R\n",
      "A=read.csv('../data1/raw/2004_to_be_cleaned.csv',header=T)\n",
      "A['year']=2004\n",
      "for (i in 2005:2013){\n",
      "B=read.csv(paste('../data1/raw/',i,'_to_be_cleaned.csv',sep=''), header=T)\n",
      "B['year']=i\n",
      "A=rbind(A,B)}\n",
      "print(head(A))\n",
      "print(nrow(A))"
     ],
     "language": "python",
     "metadata": {},
     "outputs": [
      {
       "metadata": {},
       "output_type": "display_data",
       "text": [
        "  X grp_code   state                            group   pop ttl_labor per_labor\n",
        "1 1        6 Alabama                     White, women 1,298       713      54.9\n",
        "2 2        7 Alabama        Black or African American   851       511      60.0\n",
        "3 3        8 Alabama   Black or African American, men   374       233      62.1\n",
        "4 4        9 Alabama Black or African American, women   477       278      58.4\n",
        "5 5       13 Alabama     Hispanic or Latino ethnicity    57        50      87.1\n",
        "6 6       16 Alabama      Married men, spouse present   972       735      75.6\n",
        "  ttl_emp emp_rate ttl_unemp unemp_rate year\n",
        "1     685     52.8        28        3.9 2004\n",
        "2     449     52.7        62       12.2 2004\n",
        "3     207     55.2        26       11.2 2004\n",
        "4     242     50.8        36       13.1 2004\n",
        "5      48     83.9         2        3.7 2004\n",
        "6     716     73.6        19        2.6 2004\n",
        "[1] 24272\n"
       ]
      }
     ],
     "prompt_number": 11
    },
    {
     "cell_type": "markdown",
     "metadata": {},
     "source": [
      "keep only the variables we need. we will keep year, grp_code, group,emp_rate and unemp_rate.\n",
      "keep only observations with state name \"California\"."
     ]
    },
    {
     "cell_type": "code",
     "collapsed": false,
     "input": [
      "%%R\n",
      "A=subset(A, select=c(year, grp_code, state, group, emp_rate, unemp_rate))\n",
      "A=A[A$state=='California',]\n",
      "print(tail(A))"
     ],
     "language": "python",
     "metadata": {},
     "outputs": [
      {
       "metadata": {},
       "output_type": "display_data",
       "text": [
        "      year grp_code      state                    group emp_rate unemp_rate\n",
        "22792 2013       34 California    Women, 20 to 24 years     54.4       13.8\n",
        "22793 2013       35 California    Women, 25 to 34 years     64.6          8\n",
        "22794 2013       36 California    Women, 35 to 44 years     65.0        7.4\n",
        "22795 2013       37 California    Women, 45 to 54 years     65.9        7.7\n",
        "22796 2013       38 California    Women, 55 to 64 years     54.1        6.3\n",
        "22797 2013       39 California Women, 65 years and over     14.3          5\n"
       ]
      }
     ],
     "prompt_number": 12
    },
    {
     "cell_type": "markdown",
     "metadata": {},
     "source": [
      "delete any individual with N.A values.\n"
     ]
    },
    {
     "cell_type": "code",
     "collapsed": false,
     "input": [
      "%%R\n",
      "A=A[complete.cases(A),]\n"
     ],
     "language": "python",
     "metadata": {},
     "outputs": [],
     "prompt_number": 13
    },
    {
     "cell_type": "markdown",
     "metadata": {},
     "source": [
      "Since we have 3 different questions to answer: general gender discrimination, gender discrimination in different age groups, gender discrimination in different races, 3 dataframe will be created, one for each question."
     ]
    },
    {
     "cell_type": "code",
     "collapsed": false,
     "input": [
      "%%R\n",
      "Agen=subset(A, grp_code==2 | grp_code==3) #general\n",
      "Aage=subset(A, grp_code>=25 & grp_code<=39) #age\n",
      "Arace=subset(A,grp_code==5|grp_code==6|grp_code==8|grp_code==9|grp_code==11|grp_code==12|grp_code==14|grp_code==15) #race\n",
      "\n",
      "print(head(Arace))\n",
      "print(class(Aage))"
     ],
     "language": "python",
     "metadata": {},
     "outputs": [
      {
       "metadata": {},
       "output_type": "display_data",
       "text": [
        "    year grp_code      state                            group emp_rate\n",
        "187 2004        5 California                       White, men     70.4\n",
        "188 2004        6 California                     White, women     54.1\n",
        "190 2004        8 California   Black or African American, men     57.3\n",
        "191 2004        9 California Black or African American, women     53.8\n",
        "193 2004       11 California                       Asian, men     67.6\n",
        "194 2004       12 California                     Asian, women     54.5\n",
        "    unemp_rate\n",
        "187          6\n",
        "188        5.8\n",
        "190       11.6\n",
        "191        9.6\n",
        "193        5.3\n",
        "194        4.9\n",
        "[1] \"data.frame\"\n"
       ]
      }
     ],
     "prompt_number": 14
    },
    {
     "cell_type": "code",
     "collapsed": false,
     "input": [
      "%%bash\n",
      "cd ../data1/cleaned"
     ],
     "language": "python",
     "metadata": {},
     "outputs": [],
     "prompt_number": 15
    },
    {
     "cell_type": "code",
     "collapsed": false,
     "input": [
      "%%R\n",
      "write.csv(A13gen, '../data1/cleaned/gen2013.csv')\n",
      "write.csv(A13age, '../data1/cleaned/age2013.csv')\n",
      "write.csv(A13race, '../data1/cleaned/race2013.csv')\n",
      "\n",
      "write.csv(Agen, '../data1/cleaned/gencal.csv')\n",
      "write.csv(Aage, '../data1/cleaned/agecal.csv')\n",
      "write.csv(Arace, '../data1/cleaned/racecal.csv')\n"
     ],
     "language": "python",
     "metadata": {},
     "outputs": [],
     "prompt_number": 16
    },
    {
     "cell_type": "heading",
     "level": 2,
     "metadata": {},
     "source": [
      "Example"
     ]
    },
    {
     "cell_type": "code",
     "collapsed": false,
     "input": [],
     "language": "python",
     "metadata": {},
     "outputs": []
    },
    {
     "cell_type": "markdown",
     "metadata": {},
     "source": [
      "Here I'll load the plant data in xml format into a R data frame using the \n",
      "\n",
      "    create_df_from_plant_xml(file)\n",
      "    \n",
      "function contained in the R script \n",
      "\n",
      "        ./script/plant_df-R"
     ]
    },
    {
     "cell_type": "code",
     "collapsed": false,
     "input": [
      "%load_ext rmagic"
     ],
     "language": "python",
     "metadata": {},
     "outputs": [
      {
       "output_type": "stream",
       "stream": "stdout",
       "text": [
        "The rmagic extension is already loaded. To reload it, use:\n",
        "  %reload_ext rmagic\n"
       ]
      }
     ],
     "prompt_number": 4
    },
    {
     "cell_type": "markdown",
     "metadata": {},
     "source": [
      "To load the function into a R cell, one needs to use the\n",
      "\n",
      "    source(R_script_file)\n",
      "command in R, which works in a similar way as the \n",
      "\n",
      "    import module\n",
      "command in Python:"
     ]
    },
    {
     "cell_type": "code",
     "collapsed": false,
     "input": [
      "%%R \n",
      "\n",
      "source('./script/plant_df-R')"
     ],
     "language": "python",
     "metadata": {},
     "outputs": [],
     "prompt_number": 5
    },
    {
     "cell_type": "markdown",
     "metadata": {},
     "source": [
      "Now, we can create a data frame directly from the XML file using the functin contained in the scrip above.\n",
      "\n",
      "If you wish to perform the cleaning using Pandas data frames instead of R data frames, one make the R data frame available to Python cells by using the R magic command:\n",
      "\n",
      "    %%R -d df_name\n",
      "\n",
      "To know more on how to pass variables back and forth between R and Python cells, please have a look at the notebook [here](http://nbviewer.ipython.org/url/github.com/ipython/ipython/raw/master/examples/notebooks/R%20Magics.ipynb)."
     ]
    },
    {
     "cell_type": "code",
     "collapsed": false,
     "input": [
      "%%R -d data\n",
      "\n",
      "library(XML)\n",
      "\n",
      "data = create_df_from_plant_xml('./data/raw/plant.xml')\n"
     ],
     "language": "python",
     "metadata": {},
     "outputs": [],
     "prompt_number": 7
    },
    {
     "cell_type": "markdown",
     "metadata": {},
     "source": [
      "Now let's load our data into a Pandas data frame:"
     ]
    },
    {
     "cell_type": "code",
     "collapsed": false,
     "input": [
      "from pandas import DataFrame\n",
      "\n",
      "df = DataFrame(data)\n",
      "df.head()"
     ],
     "language": "python",
     "metadata": {},
     "outputs": [
      {
       "html": [
        "<div style=\"max-height:1000px;max-width:1500px;overflow:auto;\">\n",
        "<table border=\"1\" class=\"dataframe\">\n",
        "  <thead>\n",
        "    <tr style=\"text-align: right;\">\n",
        "      <th></th>\n",
        "      <th>COMMON</th>\n",
        "      <th>BOTANICAL</th>\n",
        "      <th>ZONE</th>\n",
        "      <th>LIGHT</th>\n",
        "      <th>PRICE</th>\n",
        "      <th>AVAILABILITY</th>\n",
        "    </tr>\n",
        "  </thead>\n",
        "  <tbody>\n",
        "    <tr>\n",
        "      <th>0</th>\n",
        "      <td>           Bloodroot</td>\n",
        "      <td> Sanguinaria canadensis</td>\n",
        "      <td> 4</td>\n",
        "      <td> Mostly Shady</td>\n",
        "      <td> $2.44</td>\n",
        "      <td> 031599</td>\n",
        "    </tr>\n",
        "    <tr>\n",
        "      <th>1</th>\n",
        "      <td>           Columbine</td>\n",
        "      <td>   Aquilegia canadensis</td>\n",
        "      <td> 3</td>\n",
        "      <td> Mostly Shady</td>\n",
        "      <td> $9.37</td>\n",
        "      <td> 030699</td>\n",
        "    </tr>\n",
        "    <tr>\n",
        "      <th>2</th>\n",
        "      <td>      Marsh Marigold</td>\n",
        "      <td>       Caltha palustris</td>\n",
        "      <td> 4</td>\n",
        "      <td> Mostly Sunny</td>\n",
        "      <td> $6.81</td>\n",
        "      <td> 051799</td>\n",
        "    </tr>\n",
        "    <tr>\n",
        "      <th>3</th>\n",
        "      <td>             Cowslip</td>\n",
        "      <td>       Caltha palustris</td>\n",
        "      <td> 4</td>\n",
        "      <td> Mostly Shady</td>\n",
        "      <td> $9.90</td>\n",
        "      <td> 030699</td>\n",
        "    </tr>\n",
        "    <tr>\n",
        "      <th>4</th>\n",
        "      <td> Dutchman's-Breeches</td>\n",
        "      <td>    Dicentra cucullaria</td>\n",
        "      <td> 3</td>\n",
        "      <td> Mostly Shady</td>\n",
        "      <td> $6.44</td>\n",
        "      <td> 012099</td>\n",
        "    </tr>\n",
        "  </tbody>\n",
        "</table>\n",
        "</div>"
       ],
       "metadata": {},
       "output_type": "pyout",
       "prompt_number": 8,
       "text": [
        "                COMMON               BOTANICAL ZONE         LIGHT  PRICE AVAILABILITY\n",
        "0            Bloodroot  Sanguinaria canadensis    4  Mostly Shady  $2.44       031599\n",
        "1            Columbine    Aquilegia canadensis    3  Mostly Shady  $9.37       030699\n",
        "2       Marsh Marigold        Caltha palustris    4  Mostly Sunny  $6.81       051799\n",
        "3              Cowslip        Caltha palustris    4  Mostly Shady  $9.90       030699\n",
        "4  Dutchman's-Breeches     Dicentra cucullaria    3  Mostly Shady  $6.44       012099"
       ]
      }
     ],
     "prompt_number": 8
    },
    {
     "cell_type": "markdown",
     "metadata": {},
     "source": [
      "The actual data cleaning can now begins!"
     ]
    },
    {
     "cell_type": "code",
     "collapsed": false,
     "input": [],
     "language": "python",
     "metadata": {},
     "outputs": []
    },
    {
     "cell_type": "code",
     "collapsed": false,
     "input": [],
     "language": "python",
     "metadata": {},
     "outputs": []
    }
   ],
   "metadata": {}
  }
 ]
}